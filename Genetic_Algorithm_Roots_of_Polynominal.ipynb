{
  "nbformat": 4,
  "nbformat_minor": 0,
  "metadata": {
    "colab": {
      "name": "Genetic Algorithm - Roots of Polynominal.ipynb",
      "provenance": []
    },
    "kernelspec": {
      "name": "python3",
      "display_name": "Python 3"
    }
  },
  "cells": [
    {
      "cell_type": "code",
      "metadata": {
        "id": "xU8Cgpf-TeIo"
      },
      "source": [
        "import numpy as np\n",
        "import heapq"
      ],
      "execution_count": null,
      "outputs": []
    },
    {
      "cell_type": "code",
      "metadata": {
        "id": "vfcTot93T_YN"
      },
      "source": [
        "class Genetic():\n",
        "     def __init__(self, f):\n",
        "         self.lower_bound = -100\n",
        "         self.upper_bound = 100\n",
        "         \n",
        "         self.population_size = 50\n",
        "         \n",
        "         self.f = f\n",
        "         self.population = self.generate_start_population()\n",
        "         \n",
        "\n",
        "     def generate_start_population(self):\n",
        "        return np.random.randint(self.lower_bound, self.upper_bound, self.population_size)\n",
        "\n",
        "\n",
        "     def calculate_fitness(self) : \n",
        "         return [np.abs(self.f(i)) for i in self.population]\n",
        "\n",
        "\n",
        "     def Reproduction_population(self):\n",
        "        new_population = []\n",
        "        fitness = self.calculate_fitness()\n",
        "        \n",
        "        best_fitness = heapq.nsmallest(int(self.population_size/2), fitness)\n",
        "        index = [fitness.index(i) for i in best_fitness]\n",
        "        best_population = [self.population[i] for i in index]\n",
        "\n",
        "        new_population.extend(best_population)\n",
        "        \n",
        "        while len(new_population) < self.population_size :\n",
        "            selected_individual = self.parent_selection(fitness)\n",
        "                  \n",
        "            if selected_individual[0] == selected_individual[1] : new_child = self.mutation(selected_individual[0])\n",
        "            else : new_child = self.cross_over(selected_individual)\n",
        "            \n",
        "            new_population.extend(new_child)\n",
        "\n",
        "        # print(\"new_population\", new_population)\n",
        "        self.population = new_population\n",
        "\n",
        "\n",
        "     def parent_selection(self, fitness):\n",
        "        selected_parent_size = 2\n",
        "        selected_parent = []\n",
        "        \n",
        "        for i in range(selected_parent_size) :\n",
        "            random_number  = [np.random.randint(0, self.population_size - 1) for i in range(selected_parent_size)]\n",
        "            selected = self.population[random_number[0]] if fitness[random_number[0]] < fitness[random_number[1]] else self.population[random_number[1]]\n",
        "            selected_parent.append(selected)\n",
        "\n",
        "        return selected_parent\n",
        "\n",
        "     def cross_over(self, parents) :\n",
        "         a = self.convert_decimal_to_binary(parents[0])\n",
        "         b = self.convert_decimal_to_binary(parents[1])\n",
        "         \n",
        "         cross_over_point = np.random.randint(8, max(len(a)-1, len(b)-1))\n",
        "         \n",
        "         a , b = a[:cross_over_point] + b[cross_over_point:],  b[:cross_over_point] + a[cross_over_point:]\n",
        "         return self.convert_binary_to_decimal(a) , self.convert_binary_to_decimal(b)\n",
        "\n",
        "     def convert_decimal_to_binary(self, x) :\n",
        "         return format(x, '010b')   \n",
        "\n",
        "     def convert_binary_to_decimal(self, x) :\n",
        "         return int(x, 2)\n",
        "\n",
        "     def mutation(self, parent) :        \n",
        "         return parent + np.random.randint(1, 10), parent + np.random.randint(20, 50)"
      ],
      "execution_count": null,
      "outputs": []
    },
    {
      "cell_type": "code",
      "metadata": {
        "id": "KVygZgqzVDHu"
      },
      "source": [
        "def main():\n",
        "    f = lambda x : 9*(x)**5 - 194.7*(x)**4 + 1680.1*(x)**3 - 7227.94ُ*(x)**2 + 15501.2* (x) -13257.2\n",
        "    genetic_find_root = Genetic(f)\n",
        "    epoch = 1000\n",
        "    \n",
        "    for i in range(epoch):\n",
        "        genetic_find_root.Reproduction_population()\n",
        "\n",
        "    fitness = genetic_find_root.calculate_fitness()\n",
        "    index = np.argmin(fitness)\n",
        "\n",
        "    print(\"root : \", genetic_find_root.population[index], \"fitness : \", fitness[index])\n"
      ],
      "execution_count": null,
      "outputs": []
    },
    {
      "cell_type": "code",
      "metadata": {
        "id": "Lk5lctTeym6X",
        "colab": {
          "base_uri": "https://localhost:8080/",
          "height": 34
        },
        "outputId": "bccb1dda-3f92-4565-a66b-86d4d0283302"
      },
      "source": [
        "main()"
      ],
      "execution_count": null,
      "outputs": [
        {
          "output_type": "stream",
          "text": [
            "root :  4 fitness :  11.600000000002183\n"
          ],
          "name": "stdout"
        }
      ]
    }
  ]
}