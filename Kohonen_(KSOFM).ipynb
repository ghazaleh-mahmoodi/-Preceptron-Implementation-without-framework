{
  "nbformat": 4,
  "nbformat_minor": 0,
  "metadata": {
    "colab": {
      "name": "Kohonen (KSOFM).ipynb",
      "provenance": [],
      "collapsed_sections": []
    },
    "kernelspec": {
      "name": "python3",
      "display_name": "Python 3"
    },
    "accelerator": "TPU"
  },
  "cells": [
    {
      "cell_type": "markdown",
      "metadata": {
        "id": "0oCI7ZGmf7yW"
      },
      "source": [
        "#Kohonen's Self-Organizing Feature Map (KSOFM)\n",
        "\n",
        "We want to viualize 3D input (rgb) into 2D using SOM network. Random selection of original image pixels are given to the SOM algorithm, which then returns another photo with organized pixel's color"
      ]
    },
    {
      "cell_type": "code",
      "metadata": {
        "id": "zhzy9gxMaC-W"
      },
      "source": [
        "import math\n",
        "import numpy as np\n",
        "import matplotlib.pyplot as plt"
      ],
      "execution_count": null,
      "outputs": []
    },
    {
      "cell_type": "code",
      "metadata": {
        "id": "1xSbHPdtsyD5"
      },
      "source": [
        "class SOM :\n",
        "    def __init__ (self, input_data, input_shape=(40, 40, 3), sigma=4) :\n",
        "        \n",
        "        self.input_data = input_data\n",
        "\n",
        "        self.weight = self.initial_weight(input_shape)\n",
        "        \n",
        "        self.map_index = [(i, j) for i in range(input_shape[0]) \\\n",
        "                          for j in range(input_shape[1])]\n",
        "        \n",
        "        self.sigma = sigma\n",
        "    \n",
        "    #step 1 : initialization \n",
        "    def initial_weight(self, input_shape) :\n",
        "        return np.array([np.random.choice(np.arange(0, 256), input_shape[2])\\\n",
        "                         for x in range (input_shape[0]*input_shape[1])])\\\n",
        "                         .reshape(input_shape).astype(float)\n",
        "\n",
        "    #step 2 : competition \n",
        "    def calculate_nearest_node(self, input_):\n",
        "        min_value, min_value_index = np.linalg.norm(input_ - self.weight[0][0] ), (0, 0)\n",
        "        for j in self.map_index :\n",
        "            _min_value = np.linalg.norm(input_ - self.weight[j])\n",
        "            if min_value > _min_value :\n",
        "                min_value = _min_value\n",
        "                min_value_index = j\n",
        "        return  min_value_index     \n",
        "\n",
        "\n",
        "    #step 3 : Cooperation \n",
        "    def neighborhood_function (self, dist) :\n",
        "        return np.exp(-(dist**2) / (2*self.sigma**2))\n",
        "    \n",
        "    # step 4 : Adaptation\n",
        "    def update_weight(self, learning_rate, h, x):\n",
        "        return learning_rate*h*x\n",
        "\n",
        "    def train(self, epoch, learning_rate) :\n",
        "        for e in range(epoch):\n",
        "            print(e)\n",
        "            for i in self.map_index : \n",
        "                winner = self.calculate_nearest_node(self.input_data[i]) \n",
        "                for k in  self.map_index :\n",
        "                    dist = np.sum(np.power(np.array(winner) - np.array(k), 2)) ** 0.5\n",
        "                    h = self.neighborhood_function(dist)    \n",
        "                    self.weight[k] += self.update_weight(learning_rate, h, self.input_data[i] - self.weight[k])\n",
        "           \n"
      ],
      "execution_count": null,
      "outputs": []
    },
    {
      "cell_type": "code",
      "metadata": {
        "id": "GSHh8qFRij1D",
        "colab": {
          "base_uri": "https://localhost:8080/",
          "height": 267
        },
        "outputId": "ab8b014c-7f99-40b6-fd7b-1a8a28b69de8"
      },
      "source": [
        "def generate_random_color(dim = 1600, input_shape=(40, 40, 3)):\n",
        "    color = np.array([np.random.choice(np.arange(0, 256), 3) for x in range (dim)])\n",
        "    color = color.reshape(input_shape)\n",
        "    plt.imshow(color)\n",
        "    return color\n",
        "\n",
        "data_set = generate_random_color()"
      ],
      "execution_count": null,
      "outputs": [
        {
          "output_type": "display_data",
          "data": {
            "image/png": "[encoded data removed]",
            "text/plain": [
              "<Figure size 432x288 with 1 Axes>"
            ]
          },
          "metadata": {
            "needs_background": "light"
          }
        }
      ]
    },
    {
      "cell_type": "code",
      "metadata": {
        "id": "LdklGhKR42S7",
        "colab": {
          "base_uri": "https://localhost:8080/",
          "height": 351
        },
        "outputId": "d4b7b32f-8f28-4784-9fac-9b11f9c5ef7c"
      },
      "source": [
        "som = SOM(data_set)\n",
        "som.train(4, 0.5)\n",
        "plt.imshow(som.weight.astype('uint8'))"
      ],
      "execution_count": null,
      "outputs": [
        {
          "output_type": "stream",
          "text": [
            "0\n",
            "1\n",
            "2\n",
            "3\n"
          ],
          "name": "stdout"
        },
        {
          "output_type": "execute_result",
          "data": {
            "text/plain": [
              "<matplotlib.image.AxesImage at 0x7f1946c10410>"
            ]
          },
          "metadata": {},
          "execution_count": 4
        },
        {
          "output_type": "display_data",
          "data": {
            "image/png": "[encoded data removed]",
            "text/plain": [
              "<Figure size 432x288 with 1 Axes>"
            ]
          },
          "metadata": {
            "needs_background": "light"
          }
        }
      ]
    },
    {
      "cell_type": "code",
      "metadata": {
        "id": "im55-dMmeGAn"
      },
      "source": [
        ""
      ],
      "execution_count": null,
      "outputs": []
    }
  ]
}