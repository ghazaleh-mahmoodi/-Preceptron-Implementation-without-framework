{
  "nbformat": 4,
  "nbformat_minor": 0,
  "metadata": {
    "colab": {
      "name": "RBF VS MLP.ipynb",
      "provenance": [],
      "collapsed_sections": [],
      "toc_visible": true
    },
    "kernelspec": {
      "name": "python3",
      "display_name": "Python 3"
    }
  },
  "cells": [
    {
      "cell_type": "markdown",
      "metadata": {
        "id": "eQEE9TkImzIW"
      },
      "source": [
        "#MLP \"y = x ^ 2\n",
        "Training a MLP Neural Network for function approximation. Using this network and predict the F(x) = x^2 , then compare the output of the network with the results of the function F(x) and plot the comparison for the data in range of x ∈ [-3, 3]."
      ]
    },
    {
      "cell_type": "code",
      "metadata": {
        "id": "ZENxlWgxgvg9"
      },
      "source": [
        "import numpy as np\n",
        "import matplotlib.pyplot as plt\n",
        "\n",
        "import tensorflow as tf\n",
        "from tensorflow import keras\n",
        "from tensorflow.keras.models import Sequential\n",
        "from tensorflow.keras.layers import Dense , Activation\n",
        "from tensorflow.keras.layers import Dropout\n",
        "\n",
        "from keras.utils import np_utils, to_categorical\n",
        "\n",
        "from sklearn.preprocessing import MinMaxScaler\n",
        "from sklearn.metrics import mean_squared_error"
      ],
      "execution_count": null,
      "outputs": []
    },
    {
      "cell_type": "code",
      "metadata": {
        "id": "dipWLobWZbaP"
      },
      "source": [
        "x = np.asarray([i for i in np.linspace(-3, 3, 100)])\n",
        "y = np.asarray([i**2.0 for i in x])\n",
        "\n",
        "x = x.reshape((len(x), 1))\n",
        "y = y.reshape((len(y), 1))\n",
        "\n",
        "scale_x = MinMaxScaler()\n",
        "x = scale_x.fit_transform(x)\n",
        "\n",
        "scale_y = MinMaxScaler()\n",
        "y = scale_y.fit_transform(y)"
      ],
      "execution_count": null,
      "outputs": []
    },
    {
      "cell_type": "code",
      "metadata": {
        "id": "V8nG9Vkqgyp8",
        "colab": {
          "base_uri": "https://localhost:8080/",
          "height": 265
        },
        "outputId": "0ff4ff11-b6f9-40d5-d176-3d338602a476"
      },
      "source": [
        "model = Sequential()\n",
        "model.add(Dense(16, input_dim=1, activation='relu'))\n",
        "model.add(Dense(16, activation='relu'))\n",
        "model.add(Dense(1))\n",
        "model.compile(loss='mse', optimizer='adam')\n",
        "model.fit(x, y, epochs=500, batch_size=10, verbose=0)\n",
        "\n",
        "yresult = model.predict(x)\n",
        "\n",
        "x_plot = scale_x.inverse_transform(x)\n",
        "y_plot = scale_y.inverse_transform(y)\n",
        "y_result_plot = scale_y.inverse_transform(yresult)\n",
        "\n",
        "plt.plot(x_plot,y_plot, label='Actual')\n",
        "\n",
        "plt.plot(x_plot,y_result_plot, label='Predicted')\n",
        "plt.legend()\n",
        "plt.show()\n"
      ],
      "execution_count": null,
      "outputs": [
        {
          "output_type": "display_data",
          "data": {
            "image/png": "[encoded data removed]",
            "text/plain": [
              "<Figure size 432x288 with 1 Axes>"
            ]
          },
          "metadata": {
            "tags": [],
            "needs_background": "light"
          }
        }
      ]
    },
    {
      "cell_type": "markdown",
      "metadata": {
        "id": "26fG6IUipmoN"
      },
      "source": [
        "#RBF \"y = x^2\"\n",
        "Training an RBF(Radial Basis Function) Neural Network for function approximation. Using this network and predict the F(x) = x^2 , then compare the output of the network with the results of the function F(x) and plot the comparison for the data in range of x ∈ [-3, 3]."
      ]
    },
    {
      "cell_type": "code",
      "metadata": {
        "id": "YWGVcOm6C4Mf"
      },
      "source": [
        "import numpy as np\n",
        "import random\n",
        "import matplotlib.pyplot as plt"
      ],
      "execution_count": null,
      "outputs": []
    },
    {
      "cell_type": "code",
      "metadata": {
        "id": "HwrJdWtjpp1_"
      },
      "source": [
        "class RBF :\n",
        "     def __init__(self, input_dim, output_dim, centers_number , beta = 0.5):\n",
        "        self.input_dim = input_dim\n",
        "        self.hidden_dim = output_dim\n",
        "        self.centers_number = centers_number\n",
        "        self.center  = [random.uniform(-3, 3) for i in range(self.centers_number)]\n",
        "        self.weight = []\n",
        "        self.beta = beta\n",
        "\n",
        "     def activation_function(self, center, data):\n",
        "         return np.exp(-self.beta * np.linalg.norm(center-data)**2)\n",
        "     \n",
        "     def calculate_matrix (self, x):\n",
        "         matrix = np.zeros((len(x), self.centers_number))\n",
        "         for index_data, data in enumerate(x) :\n",
        "             for index_center, center in enumerate(self.center) :\n",
        "                 matrix[index_data, index_center] = self.activation_function(center, data)\n",
        "         return matrix        \n",
        "\n",
        "     def train(self, x, y):\n",
        "         phi = self.calculate_matrix(x)\n",
        "         self.weight = np.dot(np.linalg.pinv(phi), y)\n",
        "         \n",
        "     def validation(self, x):\n",
        "         matrix = self.calculate_matrix(x)\n",
        "         prediction = np.dot(matrix, self.weight)\n",
        "         return prediction\n"
      ],
      "execution_count": null,
      "outputs": []
    },
    {
      "cell_type": "code",
      "metadata": {
        "id": "Eq5kXFQ49KoN",
        "colab": {
          "base_uri": "https://localhost:8080/",
          "height": 265
        },
        "outputId": "3954d7ba-242e-4b4f-d159-87f433c94510"
      },
      "source": [
        "x_train = np.linspace(-3, 3, 50)\n",
        "y_train = np.power(x_train, 2)\n",
        "\n",
        "rbf = RBF(1, 1, 10)\n",
        "rbf.train(x_train, y_train)\n",
        "predict = rbf.train(x_train, y_train)\n",
        "\n",
        "plt.plot(x_train, y_train, label='Actual')\n",
        "\n",
        "plt.plot(x_train,predict, label='Predicted')\n",
        "plt.legend()\n",
        "plt.show()"
      ],
      "execution_count": null,
      "outputs": [
        {
          "output_type": "display_data",
          "data": {
            "image/png": "[encoded data removed]",
            "text/plain": [
              "<Figure size 432x288 with 1 Axes>"
            ]
          },
          "metadata": {
            "tags": [],
            "needs_background": "light"
          }
        }
      ]
    }
  ]
}